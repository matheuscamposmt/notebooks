{
  "cells": [
    {
      "attachments": {},
      "cell_type": "markdown",
      "metadata": {
        "id": "vAcqggSm6WoX"
      },
      "source": [
        "# Hypothesis Testing\n",
        "## Research Question:\n",
        "\n",
        "<img src=\"https://a.espncdn.com/photo/2022/1014/fc_nba_gm_1296x729.jpg\" alt=\"fc_nba_gm_1296x729.jpg\" width=648 height=364/>\n",
        "\n",
        "\n",
        "### Considering NBA players from the 2021-2022 season, do veteran players have significantly higher mean points per game (PPG) than non-veterans?\n",
        "--------------"
      ]
    },
    {
      "attachments": {},
      "cell_type": "markdown",
      "metadata": {},
      "source": [
        "Looking at the sample data we may observe that non-veteran players have more PPG than veteran players, but what is the probability that the observed effect would have occurred due to the sampling error alone, due by chance?\n",
        "\n",
        "To be sure, we have to do a hypothesis test:"
      ]
    },
    {
      "attachments": {},
      "cell_type": "markdown",
      "metadata": {},
      "source": [
        "### Steps to perform a hypothesis test\n",
        "\n",
        "1. Define null and alternative hypotheses\n",
        "2. Examine data, check assumptions, and calculate the test statistic\n",
        "3. Determine the corresponding p-value\n",
        "4. Make a decision about the null hypothesis"
      ]
    },
    {
      "attachments": {},
      "cell_type": "markdown",
      "metadata": {},
      "source": [
        "#### 1. Define null and alternative hypotheses"
      ]
    },
    {
      "attachments": {},
      "cell_type": "markdown",
      "metadata": {
        "id": "UMu9b59haGIi"
      },
      "source": [
        " Let's assume young players are under 25 years old and veterans are over or equal to 25 years old. So:\n",
        "\n",
        "#### **Null Hypothesis $H_0$**: The mean PPG of non-veteran players ($\\mu_y$) is less or equal to the mean PPG of veteran players ($\\mu_v$). \n",
        "\n",
        "$$\n",
        "\\mu_y \\leq \\mu_v\n",
        "$$\n",
        "\n",
        "$$ \n",
        "\\mu_y - \\mu_v \\leq 0 \n",
        "$$\n",
        "\n",
        "#### **Alternative Hypothesis $H_1$**: The mean PPG of non-veteran players is greater than the mean PPG of veteran players\n",
        "\n",
        "$$\n",
        "\\mu_y > \\mu_v\n",
        "$$\n",
        "\n",
        "$$ \n",
        "\\mu_y - \\mu_v > 0 \n",
        "$$"
      ]
    },
    {
      "attachments": {},
      "cell_type": "markdown",
      "metadata": {},
      "source": [
        "### 2.1 Examine data and check assumptions.\n",
        "-------"
      ]
    },
    {
      "attachments": {},
      "cell_type": "markdown",
      "metadata": {},
      "source": [
        "#### 2.1.1 Examine the data"
      ]
    },
    {
      "cell_type": "code",
      "execution_count": 1,
      "metadata": {
        "id": "ihSeJVREJ_r1"
      },
      "outputs": [],
      "source": [
        "import pandas as pd\n",
        "import matplotlib.pyplot as plt\n",
        "from datetime import date, datetime\n",
        "import seaborn as sns\n",
        "import plotly.express as px\n",
        "import plotly.graph_objects as go\n",
        "import math\n",
        "import numpy as np\n",
        "\n",
        "nba = pd.read_csv('nba_players_stats2122_regular.csv', sep=';', encoding='ISO-8859-1')"
      ]
    },
    {
      "cell_type": "code",
      "execution_count": 2,
      "metadata": {},
      "outputs": [],
      "source": [
        "nba = nba.rename(columns=str.lower)"
      ]
    },
    {
      "cell_type": "code",
      "execution_count": 3,
      "metadata": {},
      "outputs": [
        {
          "data": {
            "text/html": [
              "<div>\n",
              "<style scoped>\n",
              "    .dataframe tbody tr th:only-of-type {\n",
              "        vertical-align: middle;\n",
              "    }\n",
              "\n",
              "    .dataframe tbody tr th {\n",
              "        vertical-align: top;\n",
              "    }\n",
              "\n",
              "    .dataframe thead th {\n",
              "        text-align: right;\n",
              "    }\n",
              "</style>\n",
              "<table border=\"1\" class=\"dataframe\">\n",
              "  <thead>\n",
              "    <tr style=\"text-align: right;\">\n",
              "      <th></th>\n",
              "      <th>rk</th>\n",
              "      <th>player</th>\n",
              "      <th>pos</th>\n",
              "      <th>age</th>\n",
              "      <th>tm</th>\n",
              "      <th>g</th>\n",
              "      <th>gs</th>\n",
              "      <th>mp</th>\n",
              "      <th>fg</th>\n",
              "      <th>fga</th>\n",
              "      <th>...</th>\n",
              "      <th>ft%</th>\n",
              "      <th>orb</th>\n",
              "      <th>drb</th>\n",
              "      <th>trb</th>\n",
              "      <th>ast</th>\n",
              "      <th>stl</th>\n",
              "      <th>blk</th>\n",
              "      <th>tov</th>\n",
              "      <th>pf</th>\n",
              "      <th>pts</th>\n",
              "    </tr>\n",
              "  </thead>\n",
              "  <tbody>\n",
              "    <tr>\n",
              "      <th>0</th>\n",
              "      <td>1</td>\n",
              "      <td>Precious Achiuwa</td>\n",
              "      <td>C</td>\n",
              "      <td>22</td>\n",
              "      <td>TOR</td>\n",
              "      <td>73</td>\n",
              "      <td>28</td>\n",
              "      <td>23.6</td>\n",
              "      <td>3.6</td>\n",
              "      <td>8.3</td>\n",
              "      <td>...</td>\n",
              "      <td>0.595</td>\n",
              "      <td>2.0</td>\n",
              "      <td>4.5</td>\n",
              "      <td>6.5</td>\n",
              "      <td>1.1</td>\n",
              "      <td>0.5</td>\n",
              "      <td>0.6</td>\n",
              "      <td>1.2</td>\n",
              "      <td>2.1</td>\n",
              "      <td>9.1</td>\n",
              "    </tr>\n",
              "    <tr>\n",
              "      <th>1</th>\n",
              "      <td>2</td>\n",
              "      <td>Steven Adams</td>\n",
              "      <td>C</td>\n",
              "      <td>28</td>\n",
              "      <td>MEM</td>\n",
              "      <td>76</td>\n",
              "      <td>75</td>\n",
              "      <td>26.3</td>\n",
              "      <td>2.8</td>\n",
              "      <td>5.1</td>\n",
              "      <td>...</td>\n",
              "      <td>0.543</td>\n",
              "      <td>4.6</td>\n",
              "      <td>5.4</td>\n",
              "      <td>10.0</td>\n",
              "      <td>3.4</td>\n",
              "      <td>0.9</td>\n",
              "      <td>0.8</td>\n",
              "      <td>1.5</td>\n",
              "      <td>2.0</td>\n",
              "      <td>6.9</td>\n",
              "    </tr>\n",
              "    <tr>\n",
              "      <th>2</th>\n",
              "      <td>3</td>\n",
              "      <td>Bam Adebayo</td>\n",
              "      <td>C</td>\n",
              "      <td>24</td>\n",
              "      <td>MIA</td>\n",
              "      <td>56</td>\n",
              "      <td>56</td>\n",
              "      <td>32.6</td>\n",
              "      <td>7.3</td>\n",
              "      <td>13.0</td>\n",
              "      <td>...</td>\n",
              "      <td>0.753</td>\n",
              "      <td>2.4</td>\n",
              "      <td>7.6</td>\n",
              "      <td>10.1</td>\n",
              "      <td>3.4</td>\n",
              "      <td>1.4</td>\n",
              "      <td>0.8</td>\n",
              "      <td>2.6</td>\n",
              "      <td>3.1</td>\n",
              "      <td>19.1</td>\n",
              "    </tr>\n",
              "    <tr>\n",
              "      <th>3</th>\n",
              "      <td>4</td>\n",
              "      <td>Santi Aldama</td>\n",
              "      <td>PF</td>\n",
              "      <td>21</td>\n",
              "      <td>MEM</td>\n",
              "      <td>32</td>\n",
              "      <td>0</td>\n",
              "      <td>11.3</td>\n",
              "      <td>1.7</td>\n",
              "      <td>4.1</td>\n",
              "      <td>...</td>\n",
              "      <td>0.625</td>\n",
              "      <td>1.0</td>\n",
              "      <td>1.7</td>\n",
              "      <td>2.7</td>\n",
              "      <td>0.7</td>\n",
              "      <td>0.2</td>\n",
              "      <td>0.3</td>\n",
              "      <td>0.5</td>\n",
              "      <td>1.1</td>\n",
              "      <td>4.1</td>\n",
              "    </tr>\n",
              "    <tr>\n",
              "      <th>4</th>\n",
              "      <td>5</td>\n",
              "      <td>LaMarcus Aldridge</td>\n",
              "      <td>C</td>\n",
              "      <td>36</td>\n",
              "      <td>BRK</td>\n",
              "      <td>47</td>\n",
              "      <td>12</td>\n",
              "      <td>22.3</td>\n",
              "      <td>5.4</td>\n",
              "      <td>9.7</td>\n",
              "      <td>...</td>\n",
              "      <td>0.873</td>\n",
              "      <td>1.6</td>\n",
              "      <td>3.9</td>\n",
              "      <td>5.5</td>\n",
              "      <td>0.9</td>\n",
              "      <td>0.3</td>\n",
              "      <td>1.0</td>\n",
              "      <td>0.9</td>\n",
              "      <td>1.7</td>\n",
              "      <td>12.9</td>\n",
              "    </tr>\n",
              "    <tr>\n",
              "      <th>...</th>\n",
              "      <td>...</td>\n",
              "      <td>...</td>\n",
              "      <td>...</td>\n",
              "      <td>...</td>\n",
              "      <td>...</td>\n",
              "      <td>...</td>\n",
              "      <td>...</td>\n",
              "      <td>...</td>\n",
              "      <td>...</td>\n",
              "      <td>...</td>\n",
              "      <td>...</td>\n",
              "      <td>...</td>\n",
              "      <td>...</td>\n",
              "      <td>...</td>\n",
              "      <td>...</td>\n",
              "      <td>...</td>\n",
              "      <td>...</td>\n",
              "      <td>...</td>\n",
              "      <td>...</td>\n",
              "      <td>...</td>\n",
              "      <td>...</td>\n",
              "    </tr>\n",
              "    <tr>\n",
              "      <th>807</th>\n",
              "      <td>601</td>\n",
              "      <td>Thaddeus Young</td>\n",
              "      <td>PF</td>\n",
              "      <td>33</td>\n",
              "      <td>TOR</td>\n",
              "      <td>26</td>\n",
              "      <td>0</td>\n",
              "      <td>18.3</td>\n",
              "      <td>2.6</td>\n",
              "      <td>5.5</td>\n",
              "      <td>...</td>\n",
              "      <td>0.481</td>\n",
              "      <td>1.5</td>\n",
              "      <td>2.9</td>\n",
              "      <td>4.4</td>\n",
              "      <td>1.7</td>\n",
              "      <td>1.2</td>\n",
              "      <td>0.4</td>\n",
              "      <td>0.8</td>\n",
              "      <td>1.7</td>\n",
              "      <td>6.3</td>\n",
              "    </tr>\n",
              "    <tr>\n",
              "      <th>808</th>\n",
              "      <td>602</td>\n",
              "      <td>Trae Young</td>\n",
              "      <td>PG</td>\n",
              "      <td>23</td>\n",
              "      <td>ATL</td>\n",
              "      <td>76</td>\n",
              "      <td>76</td>\n",
              "      <td>34.9</td>\n",
              "      <td>9.4</td>\n",
              "      <td>20.3</td>\n",
              "      <td>...</td>\n",
              "      <td>0.904</td>\n",
              "      <td>0.7</td>\n",
              "      <td>3.1</td>\n",
              "      <td>3.7</td>\n",
              "      <td>9.7</td>\n",
              "      <td>0.9</td>\n",
              "      <td>0.1</td>\n",
              "      <td>4.0</td>\n",
              "      <td>1.7</td>\n",
              "      <td>28.4</td>\n",
              "    </tr>\n",
              "    <tr>\n",
              "      <th>809</th>\n",
              "      <td>603</td>\n",
              "      <td>Omer Yurtseven</td>\n",
              "      <td>C</td>\n",
              "      <td>23</td>\n",
              "      <td>MIA</td>\n",
              "      <td>56</td>\n",
              "      <td>12</td>\n",
              "      <td>12.6</td>\n",
              "      <td>2.3</td>\n",
              "      <td>4.4</td>\n",
              "      <td>...</td>\n",
              "      <td>0.623</td>\n",
              "      <td>1.5</td>\n",
              "      <td>3.7</td>\n",
              "      <td>5.3</td>\n",
              "      <td>0.9</td>\n",
              "      <td>0.3</td>\n",
              "      <td>0.4</td>\n",
              "      <td>0.7</td>\n",
              "      <td>1.5</td>\n",
              "      <td>5.3</td>\n",
              "    </tr>\n",
              "    <tr>\n",
              "      <th>810</th>\n",
              "      <td>604</td>\n",
              "      <td>Cody Zeller</td>\n",
              "      <td>C</td>\n",
              "      <td>29</td>\n",
              "      <td>POR</td>\n",
              "      <td>27</td>\n",
              "      <td>0</td>\n",
              "      <td>13.1</td>\n",
              "      <td>1.9</td>\n",
              "      <td>3.3</td>\n",
              "      <td>...</td>\n",
              "      <td>0.776</td>\n",
              "      <td>1.9</td>\n",
              "      <td>2.8</td>\n",
              "      <td>4.6</td>\n",
              "      <td>0.8</td>\n",
              "      <td>0.3</td>\n",
              "      <td>0.2</td>\n",
              "      <td>0.7</td>\n",
              "      <td>2.1</td>\n",
              "      <td>5.2</td>\n",
              "    </tr>\n",
              "    <tr>\n",
              "      <th>811</th>\n",
              "      <td>605</td>\n",
              "      <td>Ivica Zubac</td>\n",
              "      <td>C</td>\n",
              "      <td>24</td>\n",
              "      <td>LAC</td>\n",
              "      <td>76</td>\n",
              "      <td>76</td>\n",
              "      <td>24.4</td>\n",
              "      <td>4.1</td>\n",
              "      <td>6.5</td>\n",
              "      <td>...</td>\n",
              "      <td>0.727</td>\n",
              "      <td>2.9</td>\n",
              "      <td>5.6</td>\n",
              "      <td>8.5</td>\n",
              "      <td>1.6</td>\n",
              "      <td>0.5</td>\n",
              "      <td>1.0</td>\n",
              "      <td>1.5</td>\n",
              "      <td>2.7</td>\n",
              "      <td>10.3</td>\n",
              "    </tr>\n",
              "  </tbody>\n",
              "</table>\n",
              "<p>812 rows × 30 columns</p>\n",
              "</div>"
            ],
            "text/plain": [
              "      rk             player pos  age   tm   g  gs    mp   fg   fga  ...  \\\n",
              "0      1   Precious Achiuwa   C   22  TOR  73  28  23.6  3.6   8.3  ...   \n",
              "1      2       Steven Adams   C   28  MEM  76  75  26.3  2.8   5.1  ...   \n",
              "2      3        Bam Adebayo   C   24  MIA  56  56  32.6  7.3  13.0  ...   \n",
              "3      4       Santi Aldama  PF   21  MEM  32   0  11.3  1.7   4.1  ...   \n",
              "4      5  LaMarcus Aldridge   C   36  BRK  47  12  22.3  5.4   9.7  ...   \n",
              "..   ...                ...  ..  ...  ...  ..  ..   ...  ...   ...  ...   \n",
              "807  601     Thaddeus Young  PF   33  TOR  26   0  18.3  2.6   5.5  ...   \n",
              "808  602         Trae Young  PG   23  ATL  76  76  34.9  9.4  20.3  ...   \n",
              "809  603     Omer Yurtseven   C   23  MIA  56  12  12.6  2.3   4.4  ...   \n",
              "810  604        Cody Zeller   C   29  POR  27   0  13.1  1.9   3.3  ...   \n",
              "811  605        Ivica Zubac   C   24  LAC  76  76  24.4  4.1   6.5  ...   \n",
              "\n",
              "       ft%  orb  drb   trb  ast  stl  blk  tov   pf   pts  \n",
              "0    0.595  2.0  4.5   6.5  1.1  0.5  0.6  1.2  2.1   9.1  \n",
              "1    0.543  4.6  5.4  10.0  3.4  0.9  0.8  1.5  2.0   6.9  \n",
              "2    0.753  2.4  7.6  10.1  3.4  1.4  0.8  2.6  3.1  19.1  \n",
              "3    0.625  1.0  1.7   2.7  0.7  0.2  0.3  0.5  1.1   4.1  \n",
              "4    0.873  1.6  3.9   5.5  0.9  0.3  1.0  0.9  1.7  12.9  \n",
              "..     ...  ...  ...   ...  ...  ...  ...  ...  ...   ...  \n",
              "807  0.481  1.5  2.9   4.4  1.7  1.2  0.4  0.8  1.7   6.3  \n",
              "808  0.904  0.7  3.1   3.7  9.7  0.9  0.1  4.0  1.7  28.4  \n",
              "809  0.623  1.5  3.7   5.3  0.9  0.3  0.4  0.7  1.5   5.3  \n",
              "810  0.776  1.9  2.8   4.6  0.8  0.3  0.2  0.7  2.1   5.2  \n",
              "811  0.727  2.9  5.6   8.5  1.6  0.5  1.0  1.5  2.7  10.3  \n",
              "\n",
              "[812 rows x 30 columns]"
            ]
          },
          "execution_count": 3,
          "metadata": {},
          "output_type": "execute_result"
        }
      ],
      "source": [
        "nba"
      ]
    },
    {
      "attachments": {},
      "cell_type": "markdown",
      "metadata": {},
      "source": [
        "Checking if there are null values and duplicated rows."
      ]
    },
    {
      "cell_type": "code",
      "execution_count": 4,
      "metadata": {},
      "outputs": [
        {
          "name": "stdout",
          "output_type": "stream",
          "text": [
            "No NANs\n"
          ]
        }
      ],
      "source": [
        "if not nba.isnull().any().any():\n",
        "    print(\"No NANs\")\n"
      ]
    },
    {
      "cell_type": "code",
      "execution_count": 5,
      "metadata": {},
      "outputs": [
        {
          "name": "stdout",
          "output_type": "stream",
          "text": [
            "No duplicates\n"
          ]
        }
      ],
      "source": [
        "if not nba.duplicated().any():\n",
        "    print(\"No duplicates\")"
      ]
    },
    {
      "attachments": {},
      "cell_type": "markdown",
      "metadata": {},
      "source": [
        "Checking how many players are duplicated (played for different teams)."
      ]
    },
    {
      "cell_type": "code",
      "execution_count": 6,
      "metadata": {},
      "outputs": [
        {
          "data": {
            "text/html": [
              "<div>\n",
              "<style scoped>\n",
              "    .dataframe tbody tr th:only-of-type {\n",
              "        vertical-align: middle;\n",
              "    }\n",
              "\n",
              "    .dataframe tbody tr th {\n",
              "        vertical-align: top;\n",
              "    }\n",
              "\n",
              "    .dataframe thead th {\n",
              "        text-align: right;\n",
              "    }\n",
              "</style>\n",
              "<table border=\"1\" class=\"dataframe\">\n",
              "  <thead>\n",
              "    <tr style=\"text-align: right;\">\n",
              "      <th></th>\n",
              "      <th>rk</th>\n",
              "      <th>player</th>\n",
              "      <th>pos</th>\n",
              "      <th>age</th>\n",
              "      <th>tm</th>\n",
              "      <th>g</th>\n",
              "      <th>gs</th>\n",
              "      <th>mp</th>\n",
              "      <th>fg</th>\n",
              "      <th>fga</th>\n",
              "      <th>...</th>\n",
              "      <th>ft%</th>\n",
              "      <th>orb</th>\n",
              "      <th>drb</th>\n",
              "      <th>trb</th>\n",
              "      <th>ast</th>\n",
              "      <th>stl</th>\n",
              "      <th>blk</th>\n",
              "      <th>tov</th>\n",
              "      <th>pf</th>\n",
              "      <th>pts</th>\n",
              "    </tr>\n",
              "  </thead>\n",
              "  <tbody>\n",
              "    <tr>\n",
              "      <th>6</th>\n",
              "      <td>6</td>\n",
              "      <td>Nickeil Alexander-Walker</td>\n",
              "      <td>SG</td>\n",
              "      <td>23</td>\n",
              "      <td>NOP</td>\n",
              "      <td>50</td>\n",
              "      <td>19</td>\n",
              "      <td>26.3</td>\n",
              "      <td>4.7</td>\n",
              "      <td>12.6</td>\n",
              "      <td>...</td>\n",
              "      <td>0.722</td>\n",
              "      <td>0.7</td>\n",
              "      <td>2.6</td>\n",
              "      <td>3.3</td>\n",
              "      <td>2.8</td>\n",
              "      <td>0.8</td>\n",
              "      <td>0.4</td>\n",
              "      <td>1.7</td>\n",
              "      <td>1.8</td>\n",
              "      <td>12.8</td>\n",
              "    </tr>\n",
              "    <tr>\n",
              "      <th>7</th>\n",
              "      <td>6</td>\n",
              "      <td>Nickeil Alexander-Walker</td>\n",
              "      <td>SG</td>\n",
              "      <td>23</td>\n",
              "      <td>UTA</td>\n",
              "      <td>15</td>\n",
              "      <td>2</td>\n",
              "      <td>9.9</td>\n",
              "      <td>1.1</td>\n",
              "      <td>3.2</td>\n",
              "      <td>...</td>\n",
              "      <td>0.917</td>\n",
              "      <td>0.1</td>\n",
              "      <td>1.5</td>\n",
              "      <td>1.5</td>\n",
              "      <td>1.1</td>\n",
              "      <td>0.3</td>\n",
              "      <td>0.3</td>\n",
              "      <td>0.5</td>\n",
              "      <td>1.0</td>\n",
              "      <td>3.5</td>\n",
              "    </tr>\n",
              "    <tr>\n",
              "      <th>12</th>\n",
              "      <td>10</td>\n",
              "      <td>Justin Anderson</td>\n",
              "      <td>SF</td>\n",
              "      <td>28</td>\n",
              "      <td>CLE</td>\n",
              "      <td>3</td>\n",
              "      <td>0</td>\n",
              "      <td>15.7</td>\n",
              "      <td>1.3</td>\n",
              "      <td>2.7</td>\n",
              "      <td>...</td>\n",
              "      <td>0.750</td>\n",
              "      <td>0.0</td>\n",
              "      <td>2.0</td>\n",
              "      <td>2.0</td>\n",
              "      <td>2.0</td>\n",
              "      <td>0.3</td>\n",
              "      <td>0.0</td>\n",
              "      <td>0.7</td>\n",
              "      <td>1.3</td>\n",
              "      <td>4.3</td>\n",
              "    </tr>\n",
              "    <tr>\n",
              "      <th>13</th>\n",
              "      <td>10</td>\n",
              "      <td>Justin Anderson</td>\n",
              "      <td>SF</td>\n",
              "      <td>28</td>\n",
              "      <td>IND</td>\n",
              "      <td>13</td>\n",
              "      <td>6</td>\n",
              "      <td>20.7</td>\n",
              "      <td>2.5</td>\n",
              "      <td>6.7</td>\n",
              "      <td>...</td>\n",
              "      <td>0.800</td>\n",
              "      <td>0.3</td>\n",
              "      <td>2.8</td>\n",
              "      <td>3.1</td>\n",
              "      <td>2.1</td>\n",
              "      <td>0.5</td>\n",
              "      <td>0.5</td>\n",
              "      <td>0.5</td>\n",
              "      <td>1.4</td>\n",
              "      <td>6.8</td>\n",
              "    </tr>\n",
              "    <tr>\n",
              "      <th>23</th>\n",
              "      <td>19</td>\n",
              "      <td>D.J. Augustin</td>\n",
              "      <td>PG</td>\n",
              "      <td>34</td>\n",
              "      <td>HOU</td>\n",
              "      <td>34</td>\n",
              "      <td>2</td>\n",
              "      <td>15.0</td>\n",
              "      <td>1.6</td>\n",
              "      <td>4.0</td>\n",
              "      <td>...</td>\n",
              "      <td>0.868</td>\n",
              "      <td>0.2</td>\n",
              "      <td>1.0</td>\n",
              "      <td>1.2</td>\n",
              "      <td>2.2</td>\n",
              "      <td>0.3</td>\n",
              "      <td>0.0</td>\n",
              "      <td>1.3</td>\n",
              "      <td>0.5</td>\n",
              "      <td>5.4</td>\n",
              "    </tr>\n",
              "    <tr>\n",
              "      <th>...</th>\n",
              "      <td>...</td>\n",
              "      <td>...</td>\n",
              "      <td>...</td>\n",
              "      <td>...</td>\n",
              "      <td>...</td>\n",
              "      <td>...</td>\n",
              "      <td>...</td>\n",
              "      <td>...</td>\n",
              "      <td>...</td>\n",
              "      <td>...</td>\n",
              "      <td>...</td>\n",
              "      <td>...</td>\n",
              "      <td>...</td>\n",
              "      <td>...</td>\n",
              "      <td>...</td>\n",
              "      <td>...</td>\n",
              "      <td>...</td>\n",
              "      <td>...</td>\n",
              "      <td>...</td>\n",
              "      <td>...</td>\n",
              "      <td>...</td>\n",
              "    </tr>\n",
              "    <tr>\n",
              "      <th>795</th>\n",
              "      <td>593</td>\n",
              "      <td>Justise Winslow</td>\n",
              "      <td>SF</td>\n",
              "      <td>25</td>\n",
              "      <td>POR</td>\n",
              "      <td>11</td>\n",
              "      <td>10</td>\n",
              "      <td>26.8</td>\n",
              "      <td>4.3</td>\n",
              "      <td>10.5</td>\n",
              "      <td>...</td>\n",
              "      <td>0.560</td>\n",
              "      <td>1.8</td>\n",
              "      <td>4.5</td>\n",
              "      <td>6.3</td>\n",
              "      <td>2.9</td>\n",
              "      <td>1.3</td>\n",
              "      <td>0.6</td>\n",
              "      <td>1.1</td>\n",
              "      <td>1.9</td>\n",
              "      <td>10.7</td>\n",
              "    </tr>\n",
              "    <tr>\n",
              "      <th>802</th>\n",
              "      <td>599</td>\n",
              "      <td>Moses Wright</td>\n",
              "      <td>PF</td>\n",
              "      <td>23</td>\n",
              "      <td>LAC</td>\n",
              "      <td>1</td>\n",
              "      <td>0</td>\n",
              "      <td>1.0</td>\n",
              "      <td>0.0</td>\n",
              "      <td>0.0</td>\n",
              "      <td>...</td>\n",
              "      <td>0.000</td>\n",
              "      <td>0.0</td>\n",
              "      <td>0.0</td>\n",
              "      <td>0.0</td>\n",
              "      <td>1.0</td>\n",
              "      <td>0.0</td>\n",
              "      <td>0.0</td>\n",
              "      <td>0.0</td>\n",
              "      <td>0.0</td>\n",
              "      <td>0.0</td>\n",
              "    </tr>\n",
              "    <tr>\n",
              "      <th>803</th>\n",
              "      <td>599</td>\n",
              "      <td>Moses Wright</td>\n",
              "      <td>PF</td>\n",
              "      <td>23</td>\n",
              "      <td>DAL</td>\n",
              "      <td>3</td>\n",
              "      <td>0</td>\n",
              "      <td>4.3</td>\n",
              "      <td>0.3</td>\n",
              "      <td>1.3</td>\n",
              "      <td>...</td>\n",
              "      <td>1.000</td>\n",
              "      <td>0.3</td>\n",
              "      <td>0.7</td>\n",
              "      <td>1.0</td>\n",
              "      <td>0.3</td>\n",
              "      <td>0.0</td>\n",
              "      <td>0.3</td>\n",
              "      <td>0.0</td>\n",
              "      <td>0.0</td>\n",
              "      <td>1.7</td>\n",
              "    </tr>\n",
              "    <tr>\n",
              "      <th>806</th>\n",
              "      <td>601</td>\n",
              "      <td>Thaddeus Young</td>\n",
              "      <td>PF</td>\n",
              "      <td>33</td>\n",
              "      <td>SAS</td>\n",
              "      <td>26</td>\n",
              "      <td>1</td>\n",
              "      <td>14.2</td>\n",
              "      <td>2.8</td>\n",
              "      <td>4.9</td>\n",
              "      <td>...</td>\n",
              "      <td>0.455</td>\n",
              "      <td>1.5</td>\n",
              "      <td>2.0</td>\n",
              "      <td>3.6</td>\n",
              "      <td>2.3</td>\n",
              "      <td>0.9</td>\n",
              "      <td>0.3</td>\n",
              "      <td>1.2</td>\n",
              "      <td>1.5</td>\n",
              "      <td>6.1</td>\n",
              "    </tr>\n",
              "    <tr>\n",
              "      <th>807</th>\n",
              "      <td>601</td>\n",
              "      <td>Thaddeus Young</td>\n",
              "      <td>PF</td>\n",
              "      <td>33</td>\n",
              "      <td>TOR</td>\n",
              "      <td>26</td>\n",
              "      <td>0</td>\n",
              "      <td>18.3</td>\n",
              "      <td>2.6</td>\n",
              "      <td>5.5</td>\n",
              "      <td>...</td>\n",
              "      <td>0.481</td>\n",
              "      <td>1.5</td>\n",
              "      <td>2.9</td>\n",
              "      <td>4.4</td>\n",
              "      <td>1.7</td>\n",
              "      <td>1.2</td>\n",
              "      <td>0.4</td>\n",
              "      <td>0.8</td>\n",
              "      <td>1.7</td>\n",
              "      <td>6.3</td>\n",
              "    </tr>\n",
              "  </tbody>\n",
              "</table>\n",
              "<p>207 rows × 30 columns</p>\n",
              "</div>"
            ],
            "text/plain": [
              "      rk                    player pos  age   tm   g  gs    mp   fg   fga  \\\n",
              "6      6  Nickeil Alexander-Walker  SG   23  NOP  50  19  26.3  4.7  12.6   \n",
              "7      6  Nickeil Alexander-Walker  SG   23  UTA  15   2   9.9  1.1   3.2   \n",
              "12    10           Justin Anderson  SF   28  CLE   3   0  15.7  1.3   2.7   \n",
              "13    10           Justin Anderson  SF   28  IND  13   6  20.7  2.5   6.7   \n",
              "23    19             D.J. Augustin  PG   34  HOU  34   2  15.0  1.6   4.0   \n",
              "..   ...                       ...  ..  ...  ...  ..  ..   ...  ...   ...   \n",
              "795  593           Justise Winslow  SF   25  POR  11  10  26.8  4.3  10.5   \n",
              "802  599              Moses Wright  PF   23  LAC   1   0   1.0  0.0   0.0   \n",
              "803  599              Moses Wright  PF   23  DAL   3   0   4.3  0.3   1.3   \n",
              "806  601            Thaddeus Young  PF   33  SAS  26   1  14.2  2.8   4.9   \n",
              "807  601            Thaddeus Young  PF   33  TOR  26   0  18.3  2.6   5.5   \n",
              "\n",
              "     ...    ft%  orb  drb  trb  ast  stl  blk  tov   pf   pts  \n",
              "6    ...  0.722  0.7  2.6  3.3  2.8  0.8  0.4  1.7  1.8  12.8  \n",
              "7    ...  0.917  0.1  1.5  1.5  1.1  0.3  0.3  0.5  1.0   3.5  \n",
              "12   ...  0.750  0.0  2.0  2.0  2.0  0.3  0.0  0.7  1.3   4.3  \n",
              "13   ...  0.800  0.3  2.8  3.1  2.1  0.5  0.5  0.5  1.4   6.8  \n",
              "23   ...  0.868  0.2  1.0  1.2  2.2  0.3  0.0  1.3  0.5   5.4  \n",
              "..   ...    ...  ...  ...  ...  ...  ...  ...  ...  ...   ...  \n",
              "795  ...  0.560  1.8  4.5  6.3  2.9  1.3  0.6  1.1  1.9  10.7  \n",
              "802  ...  0.000  0.0  0.0  0.0  1.0  0.0  0.0  0.0  0.0   0.0  \n",
              "803  ...  1.000  0.3  0.7  1.0  0.3  0.0  0.3  0.0  0.0   1.7  \n",
              "806  ...  0.455  1.5  2.0  3.6  2.3  0.9  0.3  1.2  1.5   6.1  \n",
              "807  ...  0.481  1.5  2.9  4.4  1.7  1.2  0.4  0.8  1.7   6.3  \n",
              "\n",
              "[207 rows x 30 columns]"
            ]
          },
          "execution_count": 6,
          "metadata": {},
          "output_type": "execute_result"
        }
      ],
      "source": [
        "nba[nba.duplicated(['player'])]"
      ]
    },
    {
      "attachments": {},
      "cell_type": "markdown",
      "metadata": {},
      "source": [
        "207 players played for different teams. We'll remove all duplicate names and leave the \"TOT\" team, the player's summarized statistics."
      ]
    },
    {
      "cell_type": "code",
      "execution_count": 7,
      "metadata": {},
      "outputs": [],
      "source": [
        "nba = nba.drop(nba[nba.duplicated(['player'])].index)"
      ]
    },
    {
      "cell_type": "code",
      "execution_count": 8,
      "metadata": {},
      "outputs": [
        {
          "data": {
            "text/html": [
              "<div>\n",
              "<style scoped>\n",
              "    .dataframe tbody tr th:only-of-type {\n",
              "        vertical-align: middle;\n",
              "    }\n",
              "\n",
              "    .dataframe tbody tr th {\n",
              "        vertical-align: top;\n",
              "    }\n",
              "\n",
              "    .dataframe thead th {\n",
              "        text-align: right;\n",
              "    }\n",
              "</style>\n",
              "<table border=\"1\" class=\"dataframe\">\n",
              "  <thead>\n",
              "    <tr style=\"text-align: right;\">\n",
              "      <th></th>\n",
              "      <th>rk</th>\n",
              "      <th>player</th>\n",
              "      <th>pos</th>\n",
              "      <th>age</th>\n",
              "      <th>tm</th>\n",
              "      <th>g</th>\n",
              "      <th>gs</th>\n",
              "      <th>mp</th>\n",
              "      <th>fg</th>\n",
              "      <th>fga</th>\n",
              "      <th>...</th>\n",
              "      <th>ft%</th>\n",
              "      <th>orb</th>\n",
              "      <th>drb</th>\n",
              "      <th>trb</th>\n",
              "      <th>ast</th>\n",
              "      <th>stl</th>\n",
              "      <th>blk</th>\n",
              "      <th>tov</th>\n",
              "      <th>pf</th>\n",
              "      <th>pts</th>\n",
              "    </tr>\n",
              "  </thead>\n",
              "  <tbody>\n",
              "    <tr>\n",
              "      <th>0</th>\n",
              "      <td>1</td>\n",
              "      <td>Precious Achiuwa</td>\n",
              "      <td>C</td>\n",
              "      <td>22</td>\n",
              "      <td>TOR</td>\n",
              "      <td>73</td>\n",
              "      <td>28</td>\n",
              "      <td>23.6</td>\n",
              "      <td>3.6</td>\n",
              "      <td>8.3</td>\n",
              "      <td>...</td>\n",
              "      <td>0.595</td>\n",
              "      <td>2.0</td>\n",
              "      <td>4.5</td>\n",
              "      <td>6.5</td>\n",
              "      <td>1.1</td>\n",
              "      <td>0.5</td>\n",
              "      <td>0.6</td>\n",
              "      <td>1.2</td>\n",
              "      <td>2.1</td>\n",
              "      <td>9.1</td>\n",
              "    </tr>\n",
              "    <tr>\n",
              "      <th>1</th>\n",
              "      <td>2</td>\n",
              "      <td>Steven Adams</td>\n",
              "      <td>C</td>\n",
              "      <td>28</td>\n",
              "      <td>MEM</td>\n",
              "      <td>76</td>\n",
              "      <td>75</td>\n",
              "      <td>26.3</td>\n",
              "      <td>2.8</td>\n",
              "      <td>5.1</td>\n",
              "      <td>...</td>\n",
              "      <td>0.543</td>\n",
              "      <td>4.6</td>\n",
              "      <td>5.4</td>\n",
              "      <td>10.0</td>\n",
              "      <td>3.4</td>\n",
              "      <td>0.9</td>\n",
              "      <td>0.8</td>\n",
              "      <td>1.5</td>\n",
              "      <td>2.0</td>\n",
              "      <td>6.9</td>\n",
              "    </tr>\n",
              "    <tr>\n",
              "      <th>2</th>\n",
              "      <td>3</td>\n",
              "      <td>Bam Adebayo</td>\n",
              "      <td>C</td>\n",
              "      <td>24</td>\n",
              "      <td>MIA</td>\n",
              "      <td>56</td>\n",
              "      <td>56</td>\n",
              "      <td>32.6</td>\n",
              "      <td>7.3</td>\n",
              "      <td>13.0</td>\n",
              "      <td>...</td>\n",
              "      <td>0.753</td>\n",
              "      <td>2.4</td>\n",
              "      <td>7.6</td>\n",
              "      <td>10.1</td>\n",
              "      <td>3.4</td>\n",
              "      <td>1.4</td>\n",
              "      <td>0.8</td>\n",
              "      <td>2.6</td>\n",
              "      <td>3.1</td>\n",
              "      <td>19.1</td>\n",
              "    </tr>\n",
              "    <tr>\n",
              "      <th>3</th>\n",
              "      <td>4</td>\n",
              "      <td>Santi Aldama</td>\n",
              "      <td>PF</td>\n",
              "      <td>21</td>\n",
              "      <td>MEM</td>\n",
              "      <td>32</td>\n",
              "      <td>0</td>\n",
              "      <td>11.3</td>\n",
              "      <td>1.7</td>\n",
              "      <td>4.1</td>\n",
              "      <td>...</td>\n",
              "      <td>0.625</td>\n",
              "      <td>1.0</td>\n",
              "      <td>1.7</td>\n",
              "      <td>2.7</td>\n",
              "      <td>0.7</td>\n",
              "      <td>0.2</td>\n",
              "      <td>0.3</td>\n",
              "      <td>0.5</td>\n",
              "      <td>1.1</td>\n",
              "      <td>4.1</td>\n",
              "    </tr>\n",
              "    <tr>\n",
              "      <th>4</th>\n",
              "      <td>5</td>\n",
              "      <td>LaMarcus Aldridge</td>\n",
              "      <td>C</td>\n",
              "      <td>36</td>\n",
              "      <td>BRK</td>\n",
              "      <td>47</td>\n",
              "      <td>12</td>\n",
              "      <td>22.3</td>\n",
              "      <td>5.4</td>\n",
              "      <td>9.7</td>\n",
              "      <td>...</td>\n",
              "      <td>0.873</td>\n",
              "      <td>1.6</td>\n",
              "      <td>3.9</td>\n",
              "      <td>5.5</td>\n",
              "      <td>0.9</td>\n",
              "      <td>0.3</td>\n",
              "      <td>1.0</td>\n",
              "      <td>0.9</td>\n",
              "      <td>1.7</td>\n",
              "      <td>12.9</td>\n",
              "    </tr>\n",
              "    <tr>\n",
              "      <th>...</th>\n",
              "      <td>...</td>\n",
              "      <td>...</td>\n",
              "      <td>...</td>\n",
              "      <td>...</td>\n",
              "      <td>...</td>\n",
              "      <td>...</td>\n",
              "      <td>...</td>\n",
              "      <td>...</td>\n",
              "      <td>...</td>\n",
              "      <td>...</td>\n",
              "      <td>...</td>\n",
              "      <td>...</td>\n",
              "      <td>...</td>\n",
              "      <td>...</td>\n",
              "      <td>...</td>\n",
              "      <td>...</td>\n",
              "      <td>...</td>\n",
              "      <td>...</td>\n",
              "      <td>...</td>\n",
              "      <td>...</td>\n",
              "      <td>...</td>\n",
              "    </tr>\n",
              "    <tr>\n",
              "      <th>805</th>\n",
              "      <td>601</td>\n",
              "      <td>Thaddeus Young</td>\n",
              "      <td>PF</td>\n",
              "      <td>33</td>\n",
              "      <td>TOT</td>\n",
              "      <td>52</td>\n",
              "      <td>1</td>\n",
              "      <td>16.3</td>\n",
              "      <td>2.7</td>\n",
              "      <td>5.2</td>\n",
              "      <td>...</td>\n",
              "      <td>0.469</td>\n",
              "      <td>1.5</td>\n",
              "      <td>2.5</td>\n",
              "      <td>4.0</td>\n",
              "      <td>2.0</td>\n",
              "      <td>1.0</td>\n",
              "      <td>0.3</td>\n",
              "      <td>1.0</td>\n",
              "      <td>1.6</td>\n",
              "      <td>6.2</td>\n",
              "    </tr>\n",
              "    <tr>\n",
              "      <th>808</th>\n",
              "      <td>602</td>\n",
              "      <td>Trae Young</td>\n",
              "      <td>PG</td>\n",
              "      <td>23</td>\n",
              "      <td>ATL</td>\n",
              "      <td>76</td>\n",
              "      <td>76</td>\n",
              "      <td>34.9</td>\n",
              "      <td>9.4</td>\n",
              "      <td>20.3</td>\n",
              "      <td>...</td>\n",
              "      <td>0.904</td>\n",
              "      <td>0.7</td>\n",
              "      <td>3.1</td>\n",
              "      <td>3.7</td>\n",
              "      <td>9.7</td>\n",
              "      <td>0.9</td>\n",
              "      <td>0.1</td>\n",
              "      <td>4.0</td>\n",
              "      <td>1.7</td>\n",
              "      <td>28.4</td>\n",
              "    </tr>\n",
              "    <tr>\n",
              "      <th>809</th>\n",
              "      <td>603</td>\n",
              "      <td>Omer Yurtseven</td>\n",
              "      <td>C</td>\n",
              "      <td>23</td>\n",
              "      <td>MIA</td>\n",
              "      <td>56</td>\n",
              "      <td>12</td>\n",
              "      <td>12.6</td>\n",
              "      <td>2.3</td>\n",
              "      <td>4.4</td>\n",
              "      <td>...</td>\n",
              "      <td>0.623</td>\n",
              "      <td>1.5</td>\n",
              "      <td>3.7</td>\n",
              "      <td>5.3</td>\n",
              "      <td>0.9</td>\n",
              "      <td>0.3</td>\n",
              "      <td>0.4</td>\n",
              "      <td>0.7</td>\n",
              "      <td>1.5</td>\n",
              "      <td>5.3</td>\n",
              "    </tr>\n",
              "    <tr>\n",
              "      <th>810</th>\n",
              "      <td>604</td>\n",
              "      <td>Cody Zeller</td>\n",
              "      <td>C</td>\n",
              "      <td>29</td>\n",
              "      <td>POR</td>\n",
              "      <td>27</td>\n",
              "      <td>0</td>\n",
              "      <td>13.1</td>\n",
              "      <td>1.9</td>\n",
              "      <td>3.3</td>\n",
              "      <td>...</td>\n",
              "      <td>0.776</td>\n",
              "      <td>1.9</td>\n",
              "      <td>2.8</td>\n",
              "      <td>4.6</td>\n",
              "      <td>0.8</td>\n",
              "      <td>0.3</td>\n",
              "      <td>0.2</td>\n",
              "      <td>0.7</td>\n",
              "      <td>2.1</td>\n",
              "      <td>5.2</td>\n",
              "    </tr>\n",
              "    <tr>\n",
              "      <th>811</th>\n",
              "      <td>605</td>\n",
              "      <td>Ivica Zubac</td>\n",
              "      <td>C</td>\n",
              "      <td>24</td>\n",
              "      <td>LAC</td>\n",
              "      <td>76</td>\n",
              "      <td>76</td>\n",
              "      <td>24.4</td>\n",
              "      <td>4.1</td>\n",
              "      <td>6.5</td>\n",
              "      <td>...</td>\n",
              "      <td>0.727</td>\n",
              "      <td>2.9</td>\n",
              "      <td>5.6</td>\n",
              "      <td>8.5</td>\n",
              "      <td>1.6</td>\n",
              "      <td>0.5</td>\n",
              "      <td>1.0</td>\n",
              "      <td>1.5</td>\n",
              "      <td>2.7</td>\n",
              "      <td>10.3</td>\n",
              "    </tr>\n",
              "  </tbody>\n",
              "</table>\n",
              "<p>605 rows × 30 columns</p>\n",
              "</div>"
            ],
            "text/plain": [
              "      rk             player pos  age   tm   g  gs    mp   fg   fga  ...  \\\n",
              "0      1   Precious Achiuwa   C   22  TOR  73  28  23.6  3.6   8.3  ...   \n",
              "1      2       Steven Adams   C   28  MEM  76  75  26.3  2.8   5.1  ...   \n",
              "2      3        Bam Adebayo   C   24  MIA  56  56  32.6  7.3  13.0  ...   \n",
              "3      4       Santi Aldama  PF   21  MEM  32   0  11.3  1.7   4.1  ...   \n",
              "4      5  LaMarcus Aldridge   C   36  BRK  47  12  22.3  5.4   9.7  ...   \n",
              "..   ...                ...  ..  ...  ...  ..  ..   ...  ...   ...  ...   \n",
              "805  601     Thaddeus Young  PF   33  TOT  52   1  16.3  2.7   5.2  ...   \n",
              "808  602         Trae Young  PG   23  ATL  76  76  34.9  9.4  20.3  ...   \n",
              "809  603     Omer Yurtseven   C   23  MIA  56  12  12.6  2.3   4.4  ...   \n",
              "810  604        Cody Zeller   C   29  POR  27   0  13.1  1.9   3.3  ...   \n",
              "811  605        Ivica Zubac   C   24  LAC  76  76  24.4  4.1   6.5  ...   \n",
              "\n",
              "       ft%  orb  drb   trb  ast  stl  blk  tov   pf   pts  \n",
              "0    0.595  2.0  4.5   6.5  1.1  0.5  0.6  1.2  2.1   9.1  \n",
              "1    0.543  4.6  5.4  10.0  3.4  0.9  0.8  1.5  2.0   6.9  \n",
              "2    0.753  2.4  7.6  10.1  3.4  1.4  0.8  2.6  3.1  19.1  \n",
              "3    0.625  1.0  1.7   2.7  0.7  0.2  0.3  0.5  1.1   4.1  \n",
              "4    0.873  1.6  3.9   5.5  0.9  0.3  1.0  0.9  1.7  12.9  \n",
              "..     ...  ...  ...   ...  ...  ...  ...  ...  ...   ...  \n",
              "805  0.469  1.5  2.5   4.0  2.0  1.0  0.3  1.0  1.6   6.2  \n",
              "808  0.904  0.7  3.1   3.7  9.7  0.9  0.1  4.0  1.7  28.4  \n",
              "809  0.623  1.5  3.7   5.3  0.9  0.3  0.4  0.7  1.5   5.3  \n",
              "810  0.776  1.9  2.8   4.6  0.8  0.3  0.2  0.7  2.1   5.2  \n",
              "811  0.727  2.9  5.6   8.5  1.6  0.5  1.0  1.5  2.7  10.3  \n",
              "\n",
              "[605 rows x 30 columns]"
            ]
          },
          "execution_count": 8,
          "metadata": {},
          "output_type": "execute_result"
        }
      ],
      "source": [
        "nba"
      ]
    },
    {
      "attachments": {},
      "cell_type": "markdown",
      "metadata": {},
      "source": [
        "#### 2.1.2 Checking the assumptions\n",
        "- Samples are considered simple random samples\n",
        "- Samples are independent from one another\n",
        "- Both populations of responses are approximately normal (or sample sizes are both 'large' enough, so we apply the Central Limit Theorem)."
      ]
    },
    {
      "attachments": {},
      "cell_type": "markdown",
      "metadata": {},
      "source": [
        "##### It was considered to be a **young player** a player under 25 years of age because, according to [HOOPSRUMORS](https://www.hoopsrumors.com/2022/07/rookie-scale-salaries-for-2022-nba-first-round-picks.html#:~:text=Rookie%20scale%20contracts%20are%20guaranteed,the%20third%20and%20fourth%20years.):, \"*Rookie scale contracts are guaranteed for the first two years, with team options on the **third** and **fourth** years.*\". So, here, we are going to add up about 2 years of experience and arrive at age 24/25. And veteran, a player aged 25 or more."
      ]
    },
    {
      "cell_type": "code",
      "execution_count": 9,
      "metadata": {},
      "outputs": [],
      "source": [
        "youngs = nba[nba.age < 25]\n",
        "veterans = nba[nba.age >= 25]"
      ]
    },
    {
      "attachments": {},
      "cell_type": "markdown",
      "metadata": {},
      "source": [
        "In order not to be affected by players who had few games in the season (sample not large enough), we will remove players who have fewer than k games."
      ]
    },
    {
      "cell_type": "code",
      "execution_count": 10,
      "metadata": {},
      "outputs": [],
      "source": [
        "def filter_players(data, k=30):\n",
        "    return data[data.g >= k]"
      ]
    },
    {
      "cell_type": "code",
      "execution_count": 11,
      "metadata": {},
      "outputs": [],
      "source": [
        "youngs = filter_players(youngs)\n",
        "veterans = filter_players(veterans)"
      ]
    },
    {
      "cell_type": "code",
      "execution_count": 12,
      "metadata": {},
      "outputs": [],
      "source": [
        "sample_y = youngs.sample(120)\n",
        "sample_v = veterans.sample(120)"
      ]
    },
    {
      "attachments": {},
      "cell_type": "markdown",
      "metadata": {},
      "source": [
        "#### Age distribution"
      ]
    },
    {
      "attachments": {},
      "cell_type": "markdown",
      "metadata": {},
      "source": [
        "##### Veterans"
      ]
    },
    {
      "cell_type": "code",
      "execution_count": 13,
      "metadata": {},
      "outputs": [
        {
          "data": {
            "text/plain": [
              "<seaborn.axisgrid.FacetGrid at 0x2615cf40ac0>"
            ]
          },
          "execution_count": 13,
          "metadata": {},
          "output_type": "execute_result"
        },
        {
          "data": {
            "image/png": "[encoded data removed]",
            "text/plain": [
              "<Figure size 360x360 with 1 Axes>"
            ]
          },
          "metadata": {
            "needs_background": "light"
          },
          "output_type": "display_data"
        }
      ],
      "source": [
        "sns.displot(nba.age[nba.age >= 25], kde=True)"
      ]
    },
    {
      "attachments": {},
      "cell_type": "markdown",
      "metadata": {},
      "source": [
        "##### Non-veterans"
      ]
    },
    {
      "cell_type": "code",
      "execution_count": 14,
      "metadata": {},
      "outputs": [
        {
          "data": {
            "text/plain": [
              "<seaborn.axisgrid.FacetGrid at 0x2615d0132e0>"
            ]
          },
          "execution_count": 14,
          "metadata": {},
          "output_type": "execute_result"
        },
        {
          "data": {
            "image/png": "[encoded data removed]",
            "text/plain": [
              "<Figure size 500x500 with 1 Axes>"
            ]
          },
          "metadata": {},
          "output_type": "display_data"
        }
      ],
      "source": [
        "sns.displot(nba.age[nba.age < 25], kde=True)"
      ]
    },
    {
      "attachments": {},
      "cell_type": "markdown",
      "metadata": {},
      "source": [
        "- The samples are considered simple random samples, randomly selected subsets of the population.\n",
        "- Samples are independent of one another (non-veterans and veterans **are not related**).\n",
        "- Sample sizes are both large enough, **120** observations."
      ]
    },
    {
      "attachments": {},
      "cell_type": "markdown",
      "metadata": {},
      "source": [
        "### 2.2 Calculating the test statistic\n",
        "------"
      ]
    },
    {
      "cell_type": "code",
      "execution_count": 15,
      "metadata": {},
      "outputs": [],
      "source": [
        "mu_y = sample_y.pts.mean()\n",
        "mu_v = sample_v.pts.mean()"
      ]
    },
    {
      "attachments": {},
      "cell_type": "markdown",
      "metadata": {},
      "source": [
        "##### **Pooled approach**:\n",
        "\n",
        "- The variance of the two **populations** are assumed to be equal ($\\sigma^2_y = \\sigma^2_v$):\n",
        "\n",
        "##### **Unpooled approach**: \n",
        "\n",
        "- The assumption of equal variances is dropped."
      ]
    },
    {
      "attachments": {},
      "cell_type": "markdown",
      "metadata": {},
      "source": [
        "For that, we are going to use Levene's test to assess the equality of the variances."
      ]
    },
    {
      "cell_type": "code",
      "execution_count": 16,
      "metadata": {},
      "outputs": [
        {
          "data": {
            "text/plain": [
              "True"
            ]
          },
          "execution_count": 16,
          "metadata": {},
          "output_type": "execute_result"
        }
      ],
      "source": [
        "from scipy.stats import levene\n",
        "\n",
        "stat, p = levene(sample_y.pts, sample_v.pts)\n",
        "p > 0.05"
      ]
    },
    {
      "attachments": {},
      "cell_type": "markdown",
      "metadata": {},
      "source": [
        "Now, we can use the pooled approach."
      ]
    },
    {
      "cell_type": "code",
      "execution_count": 17,
      "metadata": {},
      "outputs": [],
      "source": [
        "def se_pooled(std1, std2, n1, n2):\n",
        "    sp = np.sqrt(((n1 - 1)*(std1**2) + (n2 - 1)*(std2**2)) / (n1 + n2 - 2))\n",
        "    std_error = (sp * np.sqrt((1/n1) + (1/n2))) \n",
        "    \n",
        "    return std_error\n",
        "\n",
        "def se_unpooled(std1, std2, n1, n2):\n",
        "    se1 = std1 / np.sqrt(n1)\n",
        "    se2 = std2 / np.sqrt(n2)\n",
        "\n",
        "    std_error = np.sqrt((se1**2) + (se2**2))\n",
        "\n",
        "    return std_error\n"
      ]
    },
    {
      "cell_type": "code",
      "execution_count": 18,
      "metadata": {},
      "outputs": [],
      "source": [
        "#estimates\n",
        "mu_d = mu_y - mu_v\n",
        "\n",
        "std_y = sample_y.pts.std()\n",
        "std_v = sample_v.pts.std()\n",
        "\n",
        "n_y = len(sample_y)\n",
        "n_v = len(sample_v)\n",
        "\n",
        "std_error_p = se_pooled(std_y, std_v, n_y, n_v)\n",
        "std_error_unp = se_unpooled(std_y, std_v, n_y, n_v)\n",
        "\n",
        "std_error = std_error_p"
      ]
    },
    {
      "cell_type": "markdown",
      "metadata": {},
      "source": [
        "So, with 95% of confidence, our best estimate is that the population mean will fall between the interval:"
      ]
    },
    {
      "cell_type": "code",
      "execution_count": 19,
      "metadata": {},
      "outputs": [
        {
          "name": "stdout",
          "output_type": "stream",
          "text": [
            "(-2.329, 0.754)\n",
            "-0.788 +- 1.541\n"
          ]
        }
      ],
      "source": [
        "print((round(mu_d - 1.96*std_error, 3), round(mu_d + 1.96*std_error, 3)))\n",
        "print(round(mu_d, 3), \"+-\", round(1.96*std_error, 3))"
      ]
    },
    {
      "attachments": {},
      "cell_type": "markdown",
      "metadata": {},
      "source": [
        "> If we keep sampling the data, 95% of the intervals will contain the true parameter."
      ]
    },
    {
      "attachments": {},
      "cell_type": "markdown",
      "metadata": {},
      "source": [
        "#### We are going to normalize the data to measure **how far** our sample statistic is from our hypothesized population parameter, in terms of **estimated** standard errors:\n",
        "- Formula: Best estimate **minus** the hypothesized estimate, **all divided** by the standard error of the estimate.\n",
        "- Best estimate = $\\mu_y - \\mu_v$\n",
        "- Hypothesized estimate = $0$\n",
        "$$\n",
        "\\frac{(\\mu_y - \\mu_v) - 0} {se(\\hat{\\mu_d})}\n",
        "$$"
      ]
    },
    {
      "cell_type": "code",
      "execution_count": 20,
      "metadata": {},
      "outputs": [
        {
          "data": {
            "text/plain": [
              "-1.0013948017031598"
            ]
          },
          "execution_count": 20,
          "metadata": {},
          "output_type": "execute_result"
        }
      ],
      "source": [
        "z = (mu_d - 0) / std_error\n",
        "z"
      ]
    },
    {
      "attachments": {},
      "cell_type": "markdown",
      "metadata": {},
      "source": [
        "Our difference in sample means is approximately {{ z }} standard errors below the null difference of 0 pts/g."
      ]
    },
    {
      "cell_type": "code",
      "execution_count": null,
      "metadata": {},
      "outputs": [],
      "source": []
    },
    {
      "attachments": {},
      "cell_type": "markdown",
      "metadata": {},
      "source": [
        "### 3. Visualization and calculating the p-value\n",
        "-------"
      ]
    },
    {
      "attachments": {},
      "cell_type": "markdown",
      "metadata": {},
      "source": [
        "Since we have 120 samples, we are going to use the **z-test** to facilitate the calculation and the visualization."
      ]
    },
    {
      "attachments": {},
      "cell_type": "markdown",
      "metadata": {},
      "source": [
        "Now, we're going to create normal distributions for visualization purposes:"
      ]
    },
    {
      "cell_type": "code",
      "execution_count": 21,
      "metadata": {},
      "outputs": [],
      "source": [
        "SQRT_TWO_PI = math.sqrt(2 * math.pi)\n",
        "def normal_pdf(x: float, mu: float = 0, sigma: float = 1) -> float:\n",
        "    return (math.exp(-(x-mu) ** 2 / 2 / sigma ** 2) / (SQRT_TWO_PI * sigma))\n",
        "\n",
        "def normal_cdf(x: float, mu: float = 0, sigma: float = 1) -> float:\n",
        "    return (1 + math.erf((x - mu) / math.sqrt(2) / sigma)) / 2"
      ]
    },
    {
      "cell_type": "code",
      "execution_count": 22,
      "metadata": {},
      "outputs": [],
      "source": [
        "class Normal:\n",
        "    def __init__(self, mu: float=0, sigma: float=1):\n",
        "        self.mu = mu\n",
        "        self.sigma = sigma\n",
        "        self.xs=[]\n",
        "        self.probs = []\n",
        "\n",
        "    def get_proba(self, x: float):\n",
        "        return normal_pdf(x, self.mu, self.sigma)\n",
        "\n",
        "    def create(self):\n",
        "        self.xs=np.linspace(-4 * self.sigma + self.mu, 4 * self.sigma + self.mu)\n",
        "        self.probs = [self.get_proba(x) for x in self.xs]"
      ]
    },
    {
      "cell_type": "code",
      "execution_count": 23,
      "metadata": {},
      "outputs": [],
      "source": [
        "def normal_prob_between(normal: Normal, lo: float, hi: float):\n",
        "    upper_bound_density = normal_cdf(hi, normal.mu, normal.sigma)\n",
        "    lower_bound_density = normal_cdf(lo, normal.mu, normal.sigma)\n",
        "\n",
        "    return upper_bound_density - lower_bound_density\n",
        "\n",
        "def normal_prob_outside(normal: Normal, lo: float, hi: float):\n",
        "    return 1 - normal_prob_between(normal, lo, hi)\n",
        "\n",
        "def normal_prob_under(normal: Normal, hi: float):\n",
        "    return normal_cdf(hi, normal.mu, normal.sigma)\n",
        "\n",
        "def normal_prob_above(normal: Normal, lo: float):\n",
        "    return 1 - normal_prob_under(normal, lo)"
      ]
    },
    {
      "cell_type": "code",
      "execution_count": 40,
      "metadata": {},
      "outputs": [],
      "source": [
        "import matplotlib.pyplot as plt\n",
        "\n",
        "def plot_normal(normal: Normal, interval=()):\n",
        "    x, y = normal.xs, normal.probs\n",
        "    sns.lineplot(x=x, y=y)\n",
        "                    \n",
        "    \n",
        "    if any(interval):\n",
        "        plt.fill_between(x, y, where=(x >= interval[0]) & (x <= interval[1]))\n",
        "    plt.title(\"Standard Normal Distribution\")\n",
        "    plt.show()"
      ]
    },
    {
      "attachments": {},
      "cell_type": "markdown",
      "metadata": {},
      "source": [
        "$ \\mu_d = \\mu_y - \\mu_v $"
      ]
    },
    {
      "attachments": {},
      "cell_type": "markdown",
      "metadata": {},
      "source": [
        "If the null hypothesis ($\\mu_d \\leq 0$) were true, would a test statistic value of -1.0 be unusual enough to reject the null?\n",
        "\n",
        "**p-value**: assuming the null hypothesis is true, it is the probability of observing a test statistic of **-1.0 or more extreme**."
      ]
    },
    {
      "attachments": {},
      "cell_type": "markdown",
      "metadata": {},
      "source": [
        "Since our alternative hypothesis is that **$\\mu_d > 0$**, then we should get the area above the z value, which will be our **p-value**."
      ]
    },
    {
      "cell_type": "code",
      "execution_count": 41,
      "metadata": {},
      "outputs": [
        {
          "data": {
            "image/png": "[encoded data removed]",
            "text/plain": [
              "<Figure size 640x480 with 1 Axes>"
            ]
          },
          "metadata": {},
          "output_type": "display_data"
        }
      ],
      "source": [
        "normal_std = Normal()\n",
        "normal_std.create()\n",
        "\n",
        "plot_normal(normal_std, interval=(z, 5))"
      ]
    },
    {
      "attachments": {},
      "cell_type": "markdown",
      "metadata": {},
      "source": [
        "Our significance level $\\alpha$ is going to be equal to 0.05, which is the probability of the study rejecting the null hypothesis, given that it is true."
      ]
    },
    {
      "cell_type": "code",
      "execution_count": 26,
      "metadata": {},
      "outputs": [
        {
          "name": "stdout",
          "output_type": "stream",
          "text": [
            "the best estimate is ~ 1.00 std errors below the mean \n"
          ]
        }
      ],
      "source": [
        "print(f\"the best estimate is ~ {abs(z):.2f} std errors below the mean \")"
      ]
    },
    {
      "cell_type": "code",
      "execution_count": 27,
      "metadata": {},
      "outputs": [
        {
          "data": {
            "text/plain": [
              "0.841682011873684"
            ]
          },
          "execution_count": 27,
          "metadata": {},
          "output_type": "execute_result"
        }
      ],
      "source": [
        "p = normal_prob_above(normal_std, z) # z = -1.42435, 1.42435 std errors below the mean\n",
        "p"
      ]
    },
    {
      "attachments": {},
      "cell_type": "markdown",
      "metadata": {},
      "source": [
        " - $ p$-$value \\approx 0.965 > 0.05 = \\alpha$    $\\rightarrow$ not able to reject the null hypothesis."
      ]
    },
    {
      "attachments": {},
      "cell_type": "markdown",
      "metadata": {},
      "source": [
        "A value of ~ 1.81 standard errors below the mean or more extreme is very likely to occur assuming the null hypothesis is true. Then, we cannot reject the null hypothesis."
      ]
    },
    {
      "attachments": {},
      "cell_type": "markdown",
      "metadata": {},
      "source": [
        "### 4. Decision about the null hypothesis\n",
        "-----"
      ]
    },
    {
      "attachments": {},
      "cell_type": "markdown",
      "metadata": {},
      "source": [
        "Based on our estimated difference in sample means, there is not enough evidence to support that the mean PPG of non-veteran players is significantly higher than the mean PPG of veteran players."
      ]
    },
    {
      "attachments": {},
      "cell_type": "markdown",
      "metadata": {},
      "source": [
        "### **BONUS**: Testing with **scipy** to check correctness."
      ]
    },
    {
      "cell_type": "code",
      "execution_count": 28,
      "metadata": {},
      "outputs": [
        {
          "data": {
            "text/plain": [
              "Ttest_indResult(statistic=-1.0013948017031598, pvalue=0.8411734970597351)"
            ]
          },
          "execution_count": 28,
          "metadata": {},
          "output_type": "execute_result"
        }
      ],
      "source": [
        "from scipy.stats import ttest_ind\n",
        "\n",
        "ttest_ind(sample_y.pts, sample_v.pts, alternative='greater')"
      ]
    },
    {
      "attachments": {},
      "cell_type": "markdown",
      "metadata": {},
      "source": [
        "The p-value calculated is very similar, almost the same as the one we calculated."
      ]
    }
  ],
  "metadata": {
    "colab": {
      "collapsed_sections": [],
      "provenance": []
    },
    "kernelspec": {
      "display_name": "Python 3.8.13 ('projetopy38')",
      "language": "python",
      "name": "python3"
    },
    "language_info": {
      "codemirror_mode": {
        "name": "ipython",
        "version": 3
      },
      "file_extension": ".py",
      "mimetype": "text/x-python",
      "name": "python",
      "nbconvert_exporter": "python",
      "pygments_lexer": "ipython3",
      "version": "3.8.13 | packaged by conda-forge | (default, Mar 25 2022, 05:59:45) [MSC v.1929 64 bit (AMD64)]"
    },
    "vscode": {
      "interpreter": {
        "hash": "b2bba7198f3787c5c1fe246f94750ca9da0f0f929e5c4744f4bbcfc585f76d22"
      }
    }
  },
  "nbformat": 4,
  "nbformat_minor": 0
}
